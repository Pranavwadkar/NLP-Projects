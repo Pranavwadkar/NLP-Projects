{
 "cells": [
  {
   "cell_type": "code",
   "execution_count": 5,
   "id": "8a630d36",
   "metadata": {},
   "outputs": [],
   "source": [
    "from summarizer import Summarizer,TransformerSummarizer"
   ]
  },
  {
   "cell_type": "code",
   "execution_count": 3,
   "id": "04e46c02",
   "metadata": {},
   "outputs": [],
   "source": [
    "text = \"\"\"Experts have predicted that the latest piece of big Chinese space junk will fall back to Earth but are not sure where exactly it will land. The re-entry will be around the end of the month, probably on July 31 at 02:22 UTC ± 17 hours. The mentioned rocket is roughly 21-tonne and was part of the Wentian space station module. It was launched on Sunday and docked successfully with the Tiangong space station. A Long March 5B (CZ-5B) rocket propelled the uncrewed Wentian spacecraft from the Wenchang launch centre on China’s tropical island of Hainan. It appeared to be concerning as experts have claimed that they are not sure where the debris will land. Holger Krag, the head of the Space Safety Program Office for the European Space Agency, told SpaceNews: “It is always difficult to assess the amount of surviving mass and number of fragments without knowing the design of the object, but a reasonable ‘rule-of-thumb’ is about 20-40 per cent of the original dry mass.”\"\"\""
   ]
  },
  {
   "cell_type": "code",
   "execution_count": 6,
   "id": "707354f6",
   "metadata": {},
   "outputs": [
    {
     "name": "stdout",
     "output_type": "stream",
     "text": [
      "Experts have predicted that the latest piece of big Chinese space junk will fall back to Earth but are not sure where exactly it will land. The re-entry will be around the end of the month, probably on July 31 at 02:22 UTC ± 17 hours. The mentioned rocket is roughly 21-tonne and was part of the Wentian space station module. It was launched on Sunday and docked successfully with the Tiangong space station. A Long March 5B (CZ-5B) rocket propelled the uncrewed Wentian spacecraft from the Wenchang launch centre on China’s tropical island of Hainan. It appeared to be concerning as experts have claimed that they are not sure where the debris will land. Holger Krag, the head of the Space Safety Program Office for the European Space Agency, told SpaceNews: “It is always difficult to assess the amount of surviving mass and number of fragments without knowing the design of the object, but a reasonable ‘rule-of-thumb’ is about 20-40 per cent of the original dry mass.”\n"
     ]
    }
   ],
   "source": [
    "print(text)"
   ]
  },
  {
   "cell_type": "code",
   "execution_count": 7,
   "id": "4c091442",
   "metadata": {},
   "outputs": [
    {
     "name": "stdout",
     "output_type": "stream",
     "text": [
      "972\n"
     ]
    }
   ],
   "source": [
    "# word count comaprison\n",
    "count=0\n",
    "for i in text:\n",
    "    count+=1\n",
    "print(count)"
   ]
  },
  {
   "cell_type": "code",
   "execution_count": 12,
   "id": "9d7f65d8",
   "metadata": {},
   "outputs": [
    {
     "name": "stdout",
     "output_type": "stream",
     "text": [
      "Experts have predicted that the latest piece of big Chinese space junk will fall back to Earth but are not sure where exactly it will land. It was launched on Sunday and docked successfully with the Tiangong space station.\n"
     ]
    }
   ],
   "source": [
    "GPT2_model = TransformerSummarizer(transformer_type=\"GPT2\",transformer_model_key=\"gpt2-medium\")\n",
    "full = ''.join(GPT2_model(text, min_length=20))\n",
    "print(full)\n",
    "final_summary = full"
   ]
  },
  {
   "cell_type": "code",
   "execution_count": 13,
   "id": "561e55d6",
   "metadata": {},
   "outputs": [
    {
     "name": "stdout",
     "output_type": "stream",
     "text": [
      "222\n"
     ]
    }
   ],
   "source": [
    "count=0\n",
    "for i in full:\n",
    "    count+=1\n",
    "print(count)"
   ]
  },
  {
   "cell_type": "code",
   "execution_count": 15,
   "id": "f0e7ad60",
   "metadata": {},
   "outputs": [
    {
     "name": "stdout",
     "output_type": "stream",
     "text": [
      "['Experts', 'have', 'predicted', 'that', 'the', 'latest', 'piece', 'of', 'big', 'Chinese', 'space', 'junk', 'will', 'fall', 'back', 'to', 'Earth', 'but', 'are', 'not', 'sure', 'where', 'exactly', 'it', 'will', 'land.The', 'mentioned', 'rocket', 'is', 'roughly', '21-tonne', 'and', 'was', 'part', 'of', 'the', 'Wentian', 'space', 'station', 'module.the', 'head', 'of', 'the', 'Space', 'Safety', 'Program', 'Office', 'for', 'the', 'European', 'Space', 'Agency', ',', 'told', 'SpaceNews', ':', '“', 'It', 'is', 'always', 'difficult', 'to', 'assess', 'the', 'amount', 'of', 'surviving', 'mass', 'and', 'number', 'of', 'fragments', 'without', 'knowing', 'the', 'design', 'of', 'the', 'object', ',', 'but', 'a', 'reasonable', '‘', 'rule-of-thumb', '’', 'is', 'about', '20-40', 'per', 'cent', 'of', 'the', 'original', 'dry', 'mass', '.', '”']\n",
      "Recall value is = 0.2808988764044944\n",
      "precision value is = 0.6756756756756757\n",
      "F_score value is = 0.39682539682539686\n"
     ]
    },
    {
     "data": {
      "text/plain": [
       "{'rouge-1': {'r': 0.4, 'p': 0.7777777777777778, 'f': 0.5283018823068708},\n",
       " 'rouge-2': {'r': 0.29213483146067415,\n",
       "  'p': 0.6842105263157895,\n",
       "  'f': 0.40944881470394945},\n",
       " 'rouge-l': {'r': 0.4, 'p': 0.7777777777777778, 'f': 0.5283018823068708}}"
      ]
     },
     "execution_count": 15,
     "metadata": {},
     "output_type": "execute_result"
    }
   ],
   "source": [
    "import nltk\n",
    "reference_text =\"\"\"Experts have predicted that the latest piece of big Chinese space junk will fall back to Earth but are not sure where exactly it will land.The mentioned rocket is roughly 21-tonne and was part of the Wentian space station module.the head of the Space Safety Program Office for the European Space Agency, told SpaceNews: “It is always difficult to assess the amount of surviving mass and number of fragments without knowing the design of the object, but a reasonable ‘rule-of-thumb’ is about 20-40 per cent of the original dry mass.” \n",
    "\"\"\"\n",
    "tokenised_words_1 = nltk.word_tokenize(reference_text)\n",
    "tokenised_words_2 = nltk.word_tokenize(final_summary)\n",
    "#tokenised_words_1=set(tokenised_words_1)\n",
    "#tokenised_words_2=set(tokenised_words_2)\n",
    "same_list = list(set(tokenised_words_1).intersection(tokenised_words_2))\n",
    "overlaped_string = \"\"\n",
    "for ele in same_list:\n",
    "     overlaped_string+= \" \" + ele \n",
    "\n",
    "## Now we got the system overlapped string \n",
    "\n",
    "#to do--->\n",
    "#Bigrams instead of the words comparing one at a time.\n",
    "#Visualising the sentences using the embeddings.\n",
    "#metrics on other models as well.\n",
    "\n",
    "print(tokenised_words_1)\n",
    "recall = (len(overlaped_string)/len(reference_text))\n",
    "print(\"Recall value is =\" ,recall)\n",
    "precision = (len(overlaped_string)/len(final_summary))\n",
    "print(\"precision value is =\" ,precision)\n",
    "\n",
    "## F-score of the given precision and recall\n",
    "\n",
    "Fscore = 2*((precision*recall)/(precision+recall))\n",
    "\n",
    "print(\"F_score value is =\" ,Fscore)\n",
    "\n",
    "from rouge import Rouge\n",
    "rouge=Rouge()\n",
    "rouge.get_scores(final_summary,reference_text,avg=True)    "
   ]
  },
  {
   "cell_type": "code",
   "execution_count": 16,
   "id": "1848317f",
   "metadata": {},
   "outputs": [
    {
     "name": "stdout",
     "output_type": "stream",
     "text": [
      "Recall value is = 0.0898876404494382\n",
      "Precision value is = 0.21621621621621623\n",
      "F_score value is = 0.12698412698412698\n"
     ]
    },
    {
     "data": {
      "text/plain": [
       "{'rouge-1': {'r': 0.4, 'p': 0.7777777777777778, 'f': 0.5283018823068708},\n",
       " 'rouge-2': {'r': 0.29213483146067415,\n",
       "  'p': 0.6842105263157895,\n",
       "  'f': 0.40944881470394945},\n",
       " 'rouge-l': {'r': 0.4, 'p': 0.7777777777777778, 'f': 0.5283018823068708}}"
      ]
     },
     "execution_count": 16,
     "metadata": {},
     "output_type": "execute_result"
    }
   ],
   "source": [
    "import nltk\n",
    "from nltk.tokenize import word_tokenize\n",
    "\n",
    "\n",
    "bigram_1 =list(nltk.bigrams(reference_text.split()))   ###bigram of reference text\n",
    "bigram_2 =list(nltk.bigrams(final_summary.split()))   ###bigram of final summary\n",
    "same_list = list(set(bigram_1).intersection(bigram_2))\n",
    "\n",
    "\n",
    "recall = ((2*len(same_list))/len(reference_text))\n",
    "print(\"Recall value is =\" ,recall)\n",
    "\n",
    "precision = ((2*len(same_list))/len(final_summary))\n",
    "print(\"Precision value is =\" ,precision)\n",
    "\n",
    "## F-score of the given precision and recall\n",
    "\n",
    "Fscore = 2*((precision*recall)/(precision+recall))\n",
    "\n",
    "print(\"F_score value is =\" ,Fscore)\n",
    "\n",
    "from rouge import Rouge\n",
    "rouge=Rouge()\n",
    "rouge.get_scores(final_summary,reference_text,avg=True)"
   ]
  },
  {
   "cell_type": "code",
   "execution_count": null,
   "id": "e13d7430",
   "metadata": {},
   "outputs": [],
   "source": []
  }
 ],
 "metadata": {
  "kernelspec": {
   "display_name": "Python 3",
   "language": "python",
   "name": "python3"
  },
  "language_info": {
   "codemirror_mode": {
    "name": "ipython",
    "version": 3
   },
   "file_extension": ".py",
   "mimetype": "text/x-python",
   "name": "python",
   "nbconvert_exporter": "python",
   "pygments_lexer": "ipython3",
   "version": "3.8.8"
  }
 },
 "nbformat": 4,
 "nbformat_minor": 5
}
