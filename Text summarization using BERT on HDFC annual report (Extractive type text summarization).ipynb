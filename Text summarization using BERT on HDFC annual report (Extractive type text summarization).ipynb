{
 "cells": [
  {
   "cell_type": "code",
   "execution_count": 1,
   "id": "e22cd7ea",
   "metadata": {},
   "outputs": [],
   "source": [
    "from summarizer import Summarizer,TransformerSummarizer"
   ]
  },
  {
   "cell_type": "code",
   "execution_count": 2,
   "id": "1f832a70",
   "metadata": {},
   "outputs": [],
   "source": [
    "text =\"The Indian economy faced several domestic and external headwinds for most part of the year under review due to protectionist trade policies, geopolitical uncertainties and slowdown in major trading partners. Weakness in the auto sector, lingering issues in the NBFC sector, and a moderation in private sector investments contributed to the slowdown. Although growth moderated to 4.2 per cent in FY 2019-20 from 6.1 per cent in FY 2018-19, India became the fifth largest economy in the world, surpassing the UK and France.India’s external sector continued to gain stability as the current account deficit (balance of exports minus imports) declined to 0.2 per cent of GDP in the third quarter of FY 2019-20. This was driven by lower crude oil prices for most part of the year, reducing India’s import bill (imports 80 per cent of total oil demand). Foreign direct investment (FDI) and portfolio flows remained strong, rising to over US$ 32 billion and US$ 15 billion in April-December 2019, respectively.Domestic demand also began to show green shoots in the second half of the year, especially in the rural sector. Better food price realisations and government measures focusing on doubling farm income, such as increase in Minimum Support Prices (MSPs), supported rural demand. Government consumption expenditure remained the support lever in growth dynamics. As per the Central Statistical Organisation government consumption expenditure grew at 11.9 per cent in FY 2019-20 vis-à-vis 10.2 per cent in FY 2018-19.However, the outbreak of the coronavirus pandemic has clouded the growth outlook. The nationwide lockdown is likely to hit consumption of non-essential items and weigh on activity in the services (particularly in tourism, aviation, and hospitality) as well as the manufacturing sector. Moreover, lower global growth is likely to have a bearing on export demand. The World Bank expects the overall global economy to contract by 5.2 percent due to the coronavirus impact, significantly affecting the US, Eurozone and UK economies.In the financial sector, credit growth moderated to 6.8 per cent in May 2020 from 13.5 per cent a year ago. The weakness was recorded in agriculture and services while credit deployment to industrial sector improved at the margin. The NPA ratio improved from its peak of 11.2 per cent in the year ended March 31, 2018 to 9.3 per cent in the year ended March 31, 2019, though the pace of improvement has slowed down in recent quarters. As per the RBI’s December 2019 Financial Stability Report,Gross Non-Performing Assets (GNPA) ratio of scheduled commercial banks remained unchanged at 9.3 per cent between March 2019 and September 2019. That said, the Central Bank estimates the ratio to deteriorate to 9.9 per cent by September 2020. The current COVID-19 related slowdown could add further stress in the system.The Government and the RBI have announced a host of measures to cushion the direct impact of the lockdown on the economy. The stimulus package (` 20 Lakh crore) announced by the GOI in five tranches had a clear focus on the MSME sector, a key provider of employment in both the organized and unorganized segments and a critical component of the domestic industrial supply chain. The MSME sector that encompasses a wide range of industries had been under considerable stress for a prolonged period before the incidence of COVID. This made them particularly vulnerable to the lockdown and its aftermath. The NBFC sector, a major provider of funding to the MSMEs had also been going through a period of stress particularly in its access to finances both from banks and the market. Thus, the stimulus package focuses on the survival of both MSMEs and NBFCs through the COVID crisis and also their revival. The critical element of the stimulus is its attempt to facilitate the flow of credit to both MSMES directly and to NBFCS. The government aims to do this by reducing the risk taken by banks and other institutions in lending to them by providing explicit guarantees either on the entire loan or a fraction. The guarantees delivered are through Special Purpose Vehicles (SPVs) in which the government has initially taken an equity stake. Thus, for instance the targeted credit flow of ` 300 billion in the form of collateral free loans to the smaller MSMEs is backed by a 100 per cent GOI guarantee given through NCGTC. Other measures include creating a fund of funds for MSMEs, partial credit guarantee scheme for NBFCs/MFIs and providing subordinate debt for stressed MSMEs through a Credit Guarantee Fund Trust.There are non-financial measures as well that aims to benefit MSMEs. The upward revision of turnover and investment limit (Micro: turnover increased to ` 5 crore, investment increased to ` 1 crore; Small: Turnover increased to ` 50 crore and investment increased to ` 10 crore; Medium: Turnover increased to ` 250 crore and investment increased to ` 50 crore) would help MSMEs expand operations considerably without fear of losing some of the fiscal and other benefits that the segment enjoys.The direct fiscal spending component (on MNREGA, EPF support for business and workers, food grain supply for migrant workers and enhancing Micro food enterprises among other things) is relatively low and stands at ` 2 trillion or 1 per cent of GDP. Instead the broad strategy of the stimulus is to remove bottlenecks on the supply side for the smaller and labour intensive firms to set off a “virtuous cycle” of more viable operations, increased production and employment and higher incomes that would translate into enhanced demand.On the monetary policy side, the RBI has taken a number of steps to provide liquidity and enhance credit flow in the system. The RBI recently delivered an off-cycle rate cut of 40 bps, taking the repo rate to 4.0 per cent and lowered the reverse repo rate by 40 bps to 3.35 per cent. The RBI has delivered a total rate cut (repo) of 115 bps since February 2020. The RBI has also taken a slew of measures to address liquidity constraints such as the announcement of the moratorium, liquidity infusion through TLTRO (Targeted Long Term Repo Operations) for NBFCs (` 50,000 crore), liquidity facility ` 50,000 crore for mutual funds and a cut in the CRR (Cash Reserve Ratio) by 100 bps to 3%. We expect the Central Bank to deliver further rate cuts and keep liquidity in surplus in the coming months, bringing down the cost of borrowing and pushing credit growth in the system.CPI inflation remained in a comfortable zone in H1 FY 2019-20. However, inflation rose from October 2019 onwards, peaking in January 2020 (to 7.6 per cent) mainly due to rise in food prices on account of higher onion prices. In FY 2020-21, we (HDFC Bank) expect the headline inflation to ease gradually on lower food prices, drop in crude oil prices and dwindling demand conditions due to the lockdown. For the year ending March 31, 2021, we expect the headline inflation at 3.7 per cent, well within the RBI’s target range of 4 +/-2 per cent. Thus, with inflation expected to be below the RBI’s median target of 4 per cent, the Central Bank could deliver further rate cuts to support growth.Overall, we expect the growth to remain subdued in the first half of FY 2020-21, with growth contracting in the first and second quarters and a gradual recovery in the second half supported by fiscal and monetary policy stimulus.The financial performance of your Bank during the year ended March 31, 2020, remained healthy with Total Net Revenue (Net Interest Income Plus Other Income) rising 20.6 per cent to ` 79,447.1 crore from ` 65,869.1 crore in the previous year. Revenue growth was driven by an increase in both Net Interest Income and Other Income. Net Interest Income grew by 16.5 per cent to ` 56,186.3 crore due to acceleration in loan growth coupled with a Net Interest Margin (NIM) of 4.3 percent.Other Income grew by 32.0 per cent to ` 23,260.8 crore. The largest component was Fees and Commissions, which increased by 18.5 per cent to ` 16,333.7 crore. Foreign Exchange and Derivatives Revenue was ` 2,154.8 crore, gain on revaluation and sale of investments was ` 1,934.4 crore, and recoveries from written-off accounts were ` 2,253.5 crore. Following the outbreak of the coronavirus pandemic in March 2020, the central government imposed a nationwide lockdown from March 24 to break the chain of transmission. Economic activities slowed down considerably. As a result, your Bank witnessed an impact on business volumes in terms of loan originations, distribution of third party products, and payments product activities, as well as on collections. Due to these pressures, fees/other income was lower by ` 450 crore during the year.Operating (Non-Interest) Expenses rose to ` 30,697.5 crore from ` 26,119.4 crore. During the year, your Bank set up 313 new Banking Outlets and 1,412 ATMs / Cash Deposit and Withdrawal Machines (CDMs). This, along with strong growth in retail asset and card products, resulted in higher infrastructure and staffing expenses. Staff expenses also went up due to employee additions and annual wage revisions. Despite higher infrastructure expenses, the Cost to Income Ratio improved to 38.6 per cent from 39.7 per cent.Total Provisions and Contingencies were ` 12,142.4 crore as compared to ` 7,550.1 crore the preceding year. Your Bank’s provisioning policies remain more stringent than regulatory requirements. Total provisions for the fourth quarter of the financial year included credit reserves relating to the coronavirus pandemic in the form of contingent provisions of approximately ` 1,550.0 crore.The Coverage Ratio based on specific provisions alone excluding write-offs was 72 per cent; including General and Floating provisions, it was 118 per cent. Your Bank made General Provisions of ` 796.0 crore during the year. Gross Non-Performing Assets (GNPA) were at 1.26 per cent of Gross Advances, as against 1.36 per cent in the preceding year. Net NPA ratio stood at 0.36 per cent as against 0.39 per cent in the previous year.In accordance with the RBI guidelines related to the COVID-19 Regulatory Package announced on March 27, 2020 and April 17, your Bank granted a moratorium of three months on the payment of all instalments and/or interest, as applicable, falling due between March 1, 2020 and May 31, 2020 to all eligible borrowers classified as Standard, even if overdue, as on February 29, 2020. For all such accounts where the moratorium is granted, the asset classification shall remain unchanged during the moratorium period. The Bank has made provisions above the RBI prescribed requirements against the potential impact of the coronavirus pandemic (based on the information available at this point in time).Profit Before Tax grew by 13.7 per cent to ` 36,607.1 crore. After providing for Income Tax of ` 10,349.8 crore, Net Profit increased by 24.6 per cent to ` 26,257.3 crore from ` 21,078.1 crore. Return on Average Net Worth was 16.76 per cent while Basic Earnings Per Share was ` 48.01 up from ` 39.33.As on March 31, 2020, your Bank’s Total Balance Sheet stood at ` 1,530,511 crore, an increase of 23.0 per cent over ` 1,244,541 crore on March 31, 2019. Total Deposits rose by 24.3 per cent to ` 1,147,502 crore from ` 923,141 crore.Savings Account Deposits grew by 24.8 per cent to ` 310,377 crore while Current Account Deposits rose by 22.3 per cent to ` 174,248 crore. Time Deposits stood at ` 662,877 crore, representing an increase of 24.6 per cent. CASA Deposits accounted for 42.2 per cent of Total Deposits. Advances stood at ` 993,703 crore, an increase of 21.3 per cent. Domestic loan portfolio of ` 974,161 crore grew by 21.4 per cent over March 31, 2019. Your Bank had a share of approximately 8.2 per cent in Total Domestic Deposits and 9.3 per cent in Total Domestic Advances.\""
   ]
  },
  {
   "cell_type": "code",
   "execution_count": 4,
   "id": "26b393ac",
   "metadata": {},
   "outputs": [
    {
     "name": "stdout",
     "output_type": "stream",
     "text": [
      "The Indian economy faced several domestic and external headwinds for most part of the year under review due to protectionist trade policies, geopolitical uncertainties and slowdown in major trading partners. Weakness in the auto sector, lingering issues in the NBFC sector, and a moderation in private sector investments contributed to the slowdown. Although growth moderated to 4.2 per cent in FY 2019-20 from 6.1 per cent in FY 2018-19, India became the fifth largest economy in the world, surpassing the UK and France.India’s external sector continued to gain stability as the current account deficit (balance of exports minus imports) declined to 0.2 per cent of GDP in the third quarter of FY 2019-20. This was driven by lower crude oil prices for most part of the year, reducing India’s import bill (imports 80 per cent of total oil demand). Foreign direct investment (FDI) and portfolio flows remained strong, rising to over US$ 32 billion and US$ 15 billion in April-December 2019, respectively.Domestic demand also began to show green shoots in the second half of the year, especially in the rural sector. Better food price realisations and government measures focusing on doubling farm income, such as increase in Minimum Support Prices (MSPs), supported rural demand. Government consumption expenditure remained the support lever in growth dynamics. As per the Central Statistical Organisation government consumption expenditure grew at 11.9 per cent in FY 2019-20 vis-à-vis 10.2 per cent in FY 2018-19.However, the outbreak of the coronavirus pandemic has clouded the growth outlook. The nationwide lockdown is likely to hit consumption of non-essential items and weigh on activity in the services (particularly in tourism, aviation, and hospitality) as well as the manufacturing sector. Moreover, lower global growth is likely to have a bearing on export demand. The World Bank expects the overall global economy to contract by 5.2 percent due to the coronavirus impact, significantly affecting the US, Eurozone and UK economies.In the financial sector, credit growth moderated to 6.8 per cent in May 2020 from 13.5 per cent a year ago. The weakness was recorded in agriculture and services while credit deployment to industrial sector improved at the margin. The NPA ratio improved from its peak of 11.2 per cent in the year ended March 31, 2018 to 9.3 per cent in the year ended March 31, 2019, though the pace of improvement has slowed down in recent quarters. As per the RBI’s December 2019 Financial Stability Report,Gross Non-Performing Assets (GNPA) ratio of scheduled commercial banks remained unchanged at 9.3 per cent between March 2019 and September 2019. That said, the Central Bank estimates the ratio to deteriorate to 9.9 per cent by September 2020. The current COVID-19 related slowdown could add further stress in the system.The Government and the RBI have announced a host of measures to cushion the direct impact of the lockdown on the economy. The stimulus package (` 20 Lakh crore) announced by the GOI in five tranches had a clear focus on the MSME sector, a key provider of employment in both the organized and unorganized segments and a critical component of the domestic industrial supply chain. The MSME sector that encompasses a wide range of industries had been under considerable stress for a prolonged period before the incidence of COVID. This made them particularly vulnerable to the lockdown and its aftermath. The NBFC sector, a major provider of funding to the MSMEs had also been going through a period of stress particularly in its access to finances both from banks and the market. Thus, the stimulus package focuses on the survival of both MSMEs and NBFCs through the COVID crisis and also their revival. The critical element of the stimulus is its attempt to facilitate the flow of credit to both MSMES directly and to NBFCS. The government aims to do this by reducing the risk taken by banks and other institutions in lending to them by providing explicit guarantees either on the entire loan or a fraction. The guarantees delivered are through Special Purpose Vehicles (SPVs) in which the government has initially taken an equity stake. Thus, for instance the targeted credit flow of ` 300 billion in the form of collateral free loans to the smaller MSMEs is backed by a 100 per cent GOI guarantee given through NCGTC. Other measures include creating a fund of funds for MSMEs, partial credit guarantee scheme for NBFCs/MFIs and providing subordinate debt for stressed MSMEs through a Credit Guarantee Fund Trust.There are non-financial measures as well that aims to benefit MSMEs. The upward revision of turnover and investment limit (Micro: turnover increased to ` 5 crore, investment increased to ` 1 crore; Small: Turnover increased to ` 50 crore and investment increased to ` 10 crore; Medium: Turnover increased to ` 250 crore and investment increased to ` 50 crore) would help MSMEs expand operations considerably without fear of losing some of the fiscal and other benefits that the segment enjoys.The direct fiscal spending component (on MNREGA, EPF support for business and workers, food grain supply for migrant workers and enhancing Micro food enterprises among other things) is relatively low and stands at ` 2 trillion or 1 per cent of GDP. Instead the broad strategy of the stimulus is to remove bottlenecks on the supply side for the smaller and labour intensive firms to set off a “virtuous cycle” of more viable operations, increased production and employment and higher incomes that would translate into enhanced demand.On the monetary policy side, the RBI has taken a number of steps to provide liquidity and enhance credit flow in the system. The RBI recently delivered an off-cycle rate cut of 40 bps, taking the repo rate to 4.0 per cent and lowered the reverse repo rate by 40 bps to 3.35 per cent. The RBI has delivered a total rate cut (repo) of 115 bps since February 2020. The RBI has also taken a slew of measures to address liquidity constraints such as the announcement of the moratorium, liquidity infusion through TLTRO (Targeted Long Term Repo Operations) for NBFCs (` 50,000 crore), liquidity facility ` 50,000 crore for mutual funds and a cut in the CRR (Cash Reserve Ratio) by 100 bps to 3%. We expect the Central Bank to deliver further rate cuts and keep liquidity in surplus in the coming months, bringing down the cost of borrowing and pushing credit growth in the system.CPI inflation remained in a comfortable zone in H1 FY 2019-20. However, inflation rose from October 2019 onwards, peaking in January 2020 (to 7.6 per cent) mainly due to rise in food prices on account of higher onion prices. In FY 2020-21, we (HDFC Bank) expect the headline inflation to ease gradually on lower food prices, drop in crude oil prices and dwindling demand conditions due to the lockdown. For the year ending March 31, 2021, we expect the headline inflation at 3.7 per cent, well within the RBI’s target range of 4 +/-2 per cent. Thus, with inflation expected to be below the RBI’s median target of 4 per cent, the Central Bank could deliver further rate cuts to support growth.Overall, we expect the growth to remain subdued in the first half of FY 2020-21, with growth contracting in the first and second quarters and a gradual recovery in the second half supported by fiscal and monetary policy stimulus.\n"
     ]
    }
   ],
   "source": [
    "print(text)"
   ]
  },
  {
   "cell_type": "code",
   "execution_count": 5,
   "id": "878366e5",
   "metadata": {},
   "outputs": [
    {
     "name": "stdout",
     "output_type": "stream",
     "text": [
      "7389\n"
     ]
    }
   ],
   "source": [
    "# word count comaprison\n",
    "count=0\n",
    "for i in text:\n",
    "    count+=1\n",
    "print(count)"
   ]
  },
  {
   "cell_type": "code",
   "execution_count": 10,
   "id": "211988b0",
   "metadata": {},
   "outputs": [
    {
     "name": "stderr",
     "output_type": "stream",
     "text": [
      "Some weights of the model checkpoint at bert-large-uncased were not used when initializing BertModel: ['cls.predictions.decoder.weight', 'cls.predictions.transform.dense.bias', 'cls.predictions.transform.dense.weight', 'cls.seq_relationship.bias', 'cls.predictions.bias', 'cls.predictions.transform.LayerNorm.weight', 'cls.seq_relationship.weight', 'cls.predictions.transform.LayerNorm.bias']\n",
      "- This IS expected if you are initializing BertModel from the checkpoint of a model trained on another task or with another architecture (e.g. initializing a BertForSequenceClassification model from a BertForPreTraining model).\n",
      "- This IS NOT expected if you are initializing BertModel from the checkpoint of a model that you expect to be exactly identical (initializing a BertForSequenceClassification model from a BertForSequenceClassification model).\n"
     ]
    },
    {
     "name": "stdout",
     "output_type": "stream",
     "text": [
      "The Indian economy faced several domestic and external headwinds for most part of the year under review due to protectionist trade policies, geopolitical uncertainties and slowdown in major trading partners. India’s external sector continued to gain stability as the current account deficit (balance of exports minus imports) declined to 0.2 per cent of GDP in the third quarter of FY 2019-20. As per the Central Statistical Organisation government consumption expenditure grew at 11.9 per cent in FY 2019-20 vis-à-vis 10.2 per cent in FY 2018-19.However, the outbreak of the coronavirus pandemic has clouded the growth outlook. That said, the Central Bank estimates the ratio to deteriorate to 9.9 per cent by September 2020. The stimulus package (` 20 Lakh crore) announced by the GOI in five tranches had a clear focus on the MSME sector, a key provider of employment in both the organized and unorganized segments and a critical component of the domestic industrial supply chain. This made them particularly vulnerable to the lockdown and its aftermath. The government aims to do this by reducing the risk taken by banks and other institutions in lending to them by providing explicit guarantees either on the entire loan or a fraction. There are non-financial measures as well that aims to benefit MSMEs. On the monetary policy side, the RBI has taken a number of steps to provide liquidity and enhance credit flow in the system.\n"
     ]
    }
   ],
   "source": [
    "bert_model =Summarizer()\n",
    "bert_summary = ''.join(bert_model(text,min_length=30))\n",
    "print(bert_summary)"
   ]
  },
  {
   "cell_type": "code",
   "execution_count": 12,
   "id": "64828a90",
   "metadata": {},
   "outputs": [
    {
     "name": "stdout",
     "output_type": "stream",
     "text": [
      "1434\n"
     ]
    }
   ],
   "source": [
    "count=0\n",
    "for i in bert_summary:\n",
    "    count+=1\n",
    "print(count)"
   ]
  },
  {
   "cell_type": "code",
   "execution_count": null,
   "id": "ecea8eee",
   "metadata": {},
   "outputs": [],
   "source": []
  }
 ],
 "metadata": {
  "kernelspec": {
   "display_name": "Python 3",
   "language": "python",
   "name": "python3"
  },
  "language_info": {
   "codemirror_mode": {
    "name": "ipython",
    "version": 3
   },
   "file_extension": ".py",
   "mimetype": "text/x-python",
   "name": "python",
   "nbconvert_exporter": "python",
   "pygments_lexer": "ipython3",
   "version": "3.8.8"
  }
 },
 "nbformat": 4,
 "nbformat_minor": 5
}
